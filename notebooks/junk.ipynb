{
 "cells": [
  {
   "cell_type": "code",
   "execution_count": 20,
   "id": "9d98a513",
   "metadata": {},
   "outputs": [],
   "source": [
    "# import libraries\n",
    "from ipyleaflet import Map\n",
    "\n",
    "\n"
   ]
  },
  {
   "cell_type": "code",
   "execution_count": 32,
   "id": "59ad0267",
   "metadata": {},
   "outputs": [
    {
     "data": {
      "application/vnd.jupyter.widget-view+json": {
       "model_id": "877ecd8214404519bbc1fbef6c8ea308",
       "version_major": 2,
       "version_minor": 0
      },
      "text/plain": [
       "Map(center=[0.0, 0.0], controls=(ZoomControl(options=['position', 'zoom_in_text', 'zoom_in_title', 'zoom_out_t…"
      ]
     },
     "metadata": {},
     "output_type": "display_data"
    }
   ],
   "source": [
    "# show basemap\n",
    "# m = Map(zoom=1,basemap=basemaps.Esri.WorldImagery, scroll_wheel_zoom=True)\n",
    "m = Map(zoom=1,basemap=basemaps.Esri.WorldImagery)\n",
    "m\n",
    "\n"
   ]
  },
  {
   "cell_type": "code",
   "execution_count": 33,
   "id": "d42c72d9",
   "metadata": {},
   "outputs": [],
   "source": [
    "def handle_move(*args, **kwargs):\n",
    "    print(\"Hey!\")"
   ]
  },
  {
   "cell_type": "code",
   "execution_count": null,
   "id": "0c9a81c3",
   "metadata": {},
   "outputs": [],
   "source": []
  }
 ],
 "metadata": {
  "kernelspec": {
   "display_name": "Python 3 (ipykernel)",
   "language": "python",
   "name": "python3"
  },
  "language_info": {
   "codemirror_mode": {
    "name": "ipython",
    "version": 3
   },
   "file_extension": ".py",
   "mimetype": "text/x-python",
   "name": "python",
   "nbconvert_exporter": "python",
   "pygments_lexer": "ipython3",
   "version": "3.8.5"
  }
 },
 "nbformat": 4,
 "nbformat_minor": 5
}
